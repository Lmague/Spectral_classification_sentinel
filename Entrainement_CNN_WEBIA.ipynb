{
 "cells": [
  {
   "cell_type": "code",
   "execution_count": null,
   "metadata": {
    "colab": {
     "base_uri": "https://localhost:8080/"
    },
    "executionInfo": {
     "elapsed": 8043,
     "status": "ok",
     "timestamp": 1745615044605,
     "user": {
      "displayName": "Lazare Magué",
      "userId": "03859319547262951322"
     },
     "user_tz": -120
    },
    "id": "tcLelAnruy-v",
    "outputId": "4bf8a49c-7931-44a7-ade5-d01270657194"
   },
   "outputs": [],
   "source": [
    "!pip install -q tfds-nightly"
   ]
  },
  {
   "cell_type": "code",
   "execution_count": null,
   "metadata": {
    "id": "y7oACvWbun-4"
   },
   "outputs": [],
   "source": [
    "import tensorflow as tf\n",
    "from sklearn.model_selection import train_test_split\n",
    "from sklearn.metrics import classification_report, confusion_matrix, accuracy_score\n",
    "import tensorflow_datasets as tfds"
   ]
  },
  {
   "cell_type": "code",
   "execution_count": null,
   "metadata": {
    "colab": {
     "base_uri": "https://localhost:8080/",
     "height": 34
    },
    "executionInfo": {
     "elapsed": 36,
     "status": "ok",
     "timestamp": 1746111632281,
     "user": {
      "displayName": "Lazare Magué",
      "userId": "03859319547262951322"
     },
     "user_tz": -120
    },
    "id": "x213mk4FSpuC",
    "outputId": "df7484ee-4db8-404f-cf53-fdcab03513db"
   },
   "outputs": [],
   "source": [
    "from google.colab import files\n",
    "files.download('/content/drive/MyDrive/ModelCNN_WEBIA.keras')"
   ]
  },
  {
   "cell_type": "code",
   "execution_count": null,
   "metadata": {
    "colab": {
     "base_uri": "https://localhost:8080/"
    },
    "executionInfo": {
     "elapsed": 13551,
     "status": "ok",
     "timestamp": 1746040028207,
     "user": {
      "displayName": "Lazare Magué",
      "userId": "03859319547262951322"
     },
     "user_tz": -120
    },
    "id": "9fTbzF-uj0-S",
    "outputId": "d6962823-9fc0-4879-bd82-7fc1b377b57e"
   },
   "outputs": [],
   "source": [
    "from google.colab import drive\n",
    "drive.mount('/content/drive')"
   ]
  },
  {
   "cell_type": "code",
   "execution_count": null,
   "metadata": {
    "id": "lhBGLRbcxGfw"
   },
   "outputs": [],
   "source": [
    "  builder = tfds.builder(\"eurosat\")"
   ]
  },
  {
   "cell_type": "code",
   "execution_count": null,
   "metadata": {
    "colab": {
     "base_uri": "https://localhost:8080/",
     "height": 165,
     "referenced_widgets": [
      "838160576ba644bab3390d6b5f702fb2",
      "e96d6b64d3e94d0881738d28aa0eda73",
      "726a4b49ac8c4809a27d85e1af519657",
      "3c3441d0a62145c7bfaf7ac3a23333fb",
      "7f5e4640f4414bd5bbf5e2fd7e7e6f55",
      "02cdb7d6d3dc42fc86489c3bc0a41f3a",
      "2c75db0687914924b99f110c49bb3562",
      "91d89b6cc20d4689a589c38a54cb7e31",
      "e498a88c2dbf4d07949a459aa2f3a4f5",
      "30c657a3bf8447c09ccc05d4131b006f",
      "3938e8585b6a4bcda36f3566b3699376",
      "e1e68b9395e54067b8b44c45549ddc60",
      "9f745e99922c4fe7a66aff9161e7be7c",
      "ed58000f5af140fcbad926e8ad3afbf6",
      "96e3396c7f3b4a329708188968688cf6",
      "2b339c0e8ddb44bbb065cefdc0214e55",
      "0ed01e5bbb7640939a99f9d12f667b62",
      "5f21a60116ad4e888a703c2a1619b9d0",
      "48a823a95cde490295f04cc643f15d22",
      "96bbd2145eb64f71a4fd889d3092a123",
      "8247ba00df5040f3bc74f6d8148bdb83",
      "dca0dfcf121f43b995b95306060ee7ff",
      "9e6312bb64014cb78bcf229eaeb5def1",
      "5c5f2e043518487c94c0cabd67f54c74",
      "c8aec0b380cf4a1f8bfb01cf072cfe57",
      "80fc9cb91c7a4447a880436e4bb0e7f0",
      "588902d0efcc4ea59a0bbe7180f4b557",
      "dad64027dc8140cd801544e21e657a4b",
      "97f05a3cbd374df397b3cbf0e6b17404",
      "83368e54ad5f41838241ea50067ae21f",
      "3544ecec0b4743d0ab5e9e7a3fb1a11b",
      "baa5bf2d8f6f4eb280f62e4b3a8cc2ca",
      "afe9887235254ff1aaa62a54b1c5c1cf",
      "cd14d5f992594337af262046b3af047a",
      "2038c0976b234b3c8f68eafeaaa60620",
      "523098482b7747c7a776c7d8f4cdb9c8",
      "4ea5c2b1a2f34200ac05c6b8bca63fa4",
      "7eebaa944fe04dc5bec647968a16d949",
      "d7d5c4ac77ea44c291106da2ed2f493c",
      "339252932ac443928b56e4865f0274f9",
      "efa1e2680f8a43b2b890fb968afcff22",
      "aa9c850cb52a47acbc08f7c11a438e76",
      "9767dc9900f243ac968dc8343b7e2ce9",
      "4bed6b66d7ae4806aaad13bb2f26c1f5",
      "7529586834f5487abc20082bbc770622",
      "6fab0fba995f4a8c91878ec519608667",
      "6edadddc7cb14fd489767abfc88d2359",
      "acbaa2a3d66548088f2ebc06a3397c57",
      "6626569c866948729f5aabf90559e2e5",
      "4f54f04d2cd1451a8f4a50e845c8ab1f",
      "99adfef4d20b456f8800055f3d5f24bb",
      "a056d5a2cbbd496f80cb431efc1a6b31",
      "f871d5b28b1c4c4ebfc1c1424f92c2d5",
      "1092049de6dd4cc9a3d0e1d9c3d3ff23",
      "8acb37f8868042c6875267671e54cc5e",
      "7e6c1cebb90947baac41cf24a8748bb7",
      "10dd4cb60f3c4751a15f07d4e0c94fbc",
      "619bf1b6577d41bcb38b4e3c405cf6c0",
      "cee9c4209f0f400ca64f06161f49896e",
      "c8f11eec064c43e48299fa703fb4335d",
      "d434b0f8719a4fd1b13b289a6c593d23",
      "88542bbfcaa147efb92f74e9183400df",
      "059f9105097747aea720c50da1d2ba48",
      "0008c7d67fdb4513a2a8d6b9d295de3f",
      "c73f8e6669bd4705af9bc075a1e53099",
      "35bd6288a13e431ea08a14ca57494d0f"
     ]
    },
    "executionInfo": {
     "elapsed": 123666,
     "status": "ok",
     "timestamp": 1746040155974,
     "user": {
      "displayName": "Lazare Magué",
      "userId": "03859319547262951322"
     },
     "user_tz": -120
    },
    "id": "RSauUEoRvNx-",
    "outputId": "b6883082-7173-40d3-e7c8-3f9b18e89faa"
   },
   "outputs": [],
   "source": [
    "ds, info = tfds.load(\"eurosat\",\n",
    "                    split=\"train\",\n",
    "                    with_info=True,\n",
    "                    builder_kwargs={\"config\": \"rgb\"})  # On utilise seulement les données RGB (Red, Green, Blue) de Sentinel 2\n",
    "                                                       # Ce sont les bandes 2,3 et 4"
   ]
  },
  {
   "cell_type": "code",
   "execution_count": null,
   "metadata": {
    "id": "cBFNKBrEx51o"
   },
   "outputs": [],
   "source": [
    "def preprocess(sample):\n",
    "    image = sample['image']\n",
    "    label = sample['label']\n",
    "\n",
    "\n",
    "    # Ici, nous normalisons les données pour qu'elles soient plus facilement traitable\n",
    "    image = tf.cast(image, tf.float32) / 255.0\n",
    "    return image, label"
   ]
  },
  {
   "cell_type": "code",
   "execution_count": null,
   "metadata": {
    "id": "Hxo-DiJn1PoO"
   },
   "outputs": [],
   "source": [
    "batch_size = 32\n",
    "train_size = int(0.8 * info.splits[\"train\"].num_examples)\n",
    "\n",
    "train_ds = (ds.take(train_size)\n",
    "            .map(preprocess)\n",
    "            .batch(batch_size)\n",
    "            .prefetch(tf.data.AUTOTUNE))\n",
    "\n",
    "val_ds = (ds.skip(train_size)\n",
    "          .map(preprocess)\n",
    "          .batch(batch_size)\n",
    "          .prefetch(tf.data.AUTOTUNE))"
   ]
  },
  {
   "cell_type": "code",
   "execution_count": null,
   "metadata": {
    "id": "okYhIfKe6OjH"
   },
   "outputs": [],
   "source": [
    "model = tf.keras.Sequential([\n",
    "    tf.keras.layers.Input(shape=(64, 64, 3)),\n",
    "\n",
    "    tf.keras.layers.Conv2D(64, (3, 3), activation='relu', padding=\"same\"), # Couche de convolution\n",
    "    tf.keras.layers.Conv2D(64, (3, 3), activation='relu', padding=\"same\"),\n",
    "    tf.keras.layers.MaxPooling2D((2, 2)),\n",
    "\n",
    "    tf.keras.layers.Conv2D(128, (3, 3), activation='relu', padding=\"same\"),\n",
    "    tf.keras.layers.Conv2D(128, (3, 3), activation='relu', padding=\"same\"),\n",
    "    tf.keras.layers.MaxPooling2D((2, 2)),\n",
    "\n",
    "    tf.keras.layers.Flatten(), # Transforme les résultat en un seul vecteur\n",
    "    tf.keras.layers.Dense(256, activation='relu'), # Couche dense (chaque perceprton est relié à un autre de la couche Flatten), l'activation ReLU veut dire qu'on garde que les valeurs positives\n",
    "    tf.keras.layers.Dropout(0.5), # Met 50% des poids à 0 pour evitter l'overfitting\n",
    "    tf.keras.layers.Dense(10, activation='softmax') # Couche dense qui donne une proba d'appartenance sur les 10 catégorie (la somme des probas est égale à 1)(c'est à ca que sert l'activation softmax)\n",
    "])"
   ]
  },
  {
   "cell_type": "code",
   "execution_count": null,
   "metadata": {
    "id": "kPWG6iB28-mp"
   },
   "outputs": [],
   "source": [
    "model.compile(optimizer='adam',\n",
    "              loss='sparse_categorical_crossentropy',\n",
    "              metrics=['accuracy'])"
   ]
  },
  {
   "cell_type": "code",
   "execution_count": null,
   "metadata": {
    "colab": {
     "base_uri": "https://localhost:8080/"
    },
    "executionInfo": {
     "elapsed": 16825651,
     "status": "ok",
     "timestamp": 1746073005725,
     "user": {
      "displayName": "Lazare Magué",
      "userId": "03859319547262951322"
     },
     "user_tz": -120
    },
    "id": "2KQ-vdwR9NCe",
    "outputId": "d7042662-729b-4a77-81f8-475025648982"
   },
   "outputs": [],
   "source": [
    "model.fit(train_ds, validation_data=val_ds, epochs=20)\n",
    "model.save('/content/drive/MyDrive/ModelCNN_WEBIA.keras')"
   ]
  }
 ],
 "metadata": {
  "colab": {
   "authorship_tag": "ABX9TyMT/F6wmZRldeYf7JiQiCSe",
   "mount_file_id": "1WKSiowNhDKZgHbErDCMQSJkIRdloyIUR",
   "provenance": []
  },
  "kernelspec": {
   "display_name": "Python 3",
   "name": "python3"
  },
  "language_info": {
   "name": "python"
  }
 },
 "nbformat": 4,
 "nbformat_minor": 0
}
